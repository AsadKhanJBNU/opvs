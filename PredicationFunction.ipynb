{
 "cells": [
  {
   "cell_type": "code",
   "execution_count": null,
   "id": "c8579a4a-a678-4314-a978-1bcb4ac0e733",
   "metadata": {},
   "outputs": [],
   "source": [
    "import torch\n",
    "import os\n",
    "import torch_geometric.transforms as T\n",
    "from torch_geometric.loader import DataLoader\n",
    "from models.regression_train_test import train, test, predictingSingle\n",
    "from models.Predictor_resgatedgraphconvN import MolRGNNPredictorPredictor\n",
    "os.environ[\"CUDA_DEVICE_ORDER\"]=\"PCI_BUS_ID\"  \n",
    "os.environ[\"CUDA_VISIBLE_DEVICES\"]=\"0\"\n",
    "from torch_geometric.utils import from_smiles\n",
    "from torch_geometric.data import InMemoryDataset #, Data\n",
    "from rdkit import Chem\n",
    "from rdkit.Chem import Draw\n",
    "import matplotlib.pyplot as plt\n",
    "import numpy as np"
   ]
  },
  {
   "cell_type": "code",
   "execution_count": 2,
   "id": "d37cadea-b7a7-4153-aeea-066aa423a812",
   "metadata": {},
   "outputs": [],
   "source": [
    "seed = 120\n",
    "import time\n",
    "if torch.cuda.is_available():  \n",
    "    device = \"cuda:4\"\n",
    "    torch.cuda.manual_seed_all(seed)\n",
    "    # print(\"cuda:4\")\n",
    "else:  \n",
    "    device = \"cpu\" \n",
    "    # print(torch.cuda.is_available())\n",
    "device = \"cpu\""
   ]
  },
  {
   "cell_type": "code",
   "execution_count": 3,
   "id": "e26edefd-312b-4b1f-b5c4-da4c0f737afd",
   "metadata": {},
   "outputs": [],
   "source": [
    "class Molecule_data(InMemoryDataset):\n",
    "    def __init__(self, root='/tmp', dataset='davis', y=None, transform=None,\n",
    "                 pre_transform=None,smiles=None):\n",
    "\n",
    "        #root is required for save preprocessed data, default is '/tmp'\n",
    "        super(Molecule_data, self).__init__(root, transform, pre_transform)\n",
    "        self.dataset = dataset\n",
    "        if os.path.isfile(self.processed_paths[0]):\n",
    "            self.data, self.slices = torch.load(self.processed_paths[0])\n",
    "        else:\n",
    "            self.process(smiles)\n",
    "            self.data, self.slices = torch.load(self.processed_paths[0])\n",
    "\n",
    "    @property\n",
    "    def raw_file_names(self):\n",
    "        pass\n",
    "\n",
    "    @property\n",
    "    def processed_file_names(self):\n",
    "        return [self.dataset + '.pt']\n",
    "\n",
    "    def download(self):\n",
    "        pass\n",
    "\n",
    "    def _download(self):\n",
    "        pass\n",
    "\n",
    "    def _process(self):\n",
    "        if not os.path.exists(self.processed_dir):\n",
    "            os.makedirs(self.processed_dir)\n",
    "\n",
    "    def process(self, smiles):\n",
    "       \n",
    "        data_list = []\n",
    "        for i in range(len(smiles)):\n",
    "            smile = smiles[i]\n",
    "            data = from_smiles(smile)\n",
    "            data.x = (data.x).type(torch.FloatTensor)\n",
    "            data.edge_attr = (data.edge_attr).type(torch.FloatTensor)\n",
    "            data.smile_fingerprint = None\n",
    "            graph = data\n",
    "            \n",
    "            data_list.append(graph)\n",
    "\n",
    "        if self.pre_filter is not None:\n",
    "            data_list = [data for data in data_list if self.pre_filter(data)]\n",
    "\n",
    "        if self.pre_transform is not None:\n",
    "            data_list = [self.pre_transform(data) for data in data_list]\n",
    "        data, slices = self.collate(data_list)\n",
    "        torch.save((data, slices), self.processed_paths[0])"
   ]
  },
  {
   "cell_type": "code",
   "execution_count": 4,
   "id": "e46b2e24-d4ee-4849-bc21-c00f39391aad",
   "metadata": {},
   "outputs": [],
   "source": [
    "\n",
    "def Predictions(smilesList,targetToPredicate):\n",
    "    transform = T.Compose([T.NormalizeFeatures(['x', 'edge_attr'])])\n",
    "    \n",
    "    test_data_set = 'test_data_set'+str(time.time_ns())\n",
    "    test_data = Molecule_data(root='data', dataset=test_data_set,y=None,\n",
    "                               smiles=smilesList, transform=transform)\n",
    "    noveltest_loader  = DataLoader(test_data,batch_size=64,shuffle=True)\n",
    "    \n",
    "    model = MolRGNNPredictorPredictor().to('cpu')\n",
    "    model_file_name = 'saved_models/' + targetToPredicate +'model.model'\n",
    "    checkpoint = torch.load(model_file_name, map_location=torch.device('cpu'))\n",
    "    model.load_state_dict(checkpoint)\n",
    "\n",
    "    prediction = predictingSingle(noveltest_loader, model,'cpu')\n",
    "\n",
    "    return prediction\n"
   ]
  },
  {
   "cell_type": "code",
   "execution_count": 5,
   "id": "e86b6557-8850-4ff5-b477-f591d174f8c0",
   "metadata": {},
   "outputs": [],
   "source": [
    "def smilesToMolecularStructure(smiles):\n",
    "    images = []\n",
    "    for smile in smiles:\n",
    "        mol = Chem.MolFromSmiles(smile)\n",
    "        if mol:\n",
    "            img = Draw.MolToImage(mol)\n",
    "            images.append(img)\n",
    "        else:\n",
    "            images.append(None)\n",
    "\n",
    "    return images"
   ]
  },
  {
   "cell_type": "code",
   "execution_count": 6,
   "id": "8a46669d-e6fd-45b8-bc00-072cebbb86b6",
   "metadata": {},
   "outputs": [],
   "source": [
    "def makePredictions(inputSmiles):\n",
    "    targets_to_predicates = ['voc','e_gap_alpha','jsc','pce']\n",
    "    predictions_array = {}\n",
    "    for target in targets_to_predicates:\n",
    "        predictions = Predictions(inputSmiles, target)\n",
    "        predictions_array[target] = predictions\n",
    "    return predictions_array"
   ]
  },
  {
   "cell_type": "code",
   "execution_count": null,
   "id": "5b0d86bc-2f23-4818-bbf8-865e88abc6bb",
   "metadata": {},
   "outputs": [],
   "source": []
  },
  {
   "cell_type": "code",
   "execution_count": 7,
   "id": "44aea9eb-2e34-4817-a762-3bf009f3e389",
   "metadata": {},
   "outputs": [
    {
     "name": "stdout",
     "output_type": "stream",
     "text": [
      "{'voc': array([0.7608636], dtype=float32), 'e_gap_alpha': array([2.5942693], dtype=float32), 'jsc': array([26.251654], dtype=float32), 'pce': array([2.4244654], dtype=float32)}\n"
     ]
    }
   ],
   "source": [
    "smileslist = ['C12=C(C=C3C(=C1)C=CC=C3)C=C4C(=C2)C=CC=C4']\n",
    "predictions_result = makePredictions(smileslist)\n",
    "print(predictions_result)"
   ]
  },
  {
   "cell_type": "code",
   "execution_count": null,
   "id": "5cd396ac-a17b-42a6-84ae-db54f2a3bb1e",
   "metadata": {},
   "outputs": [],
   "source": []
  },
  {
   "cell_type": "code",
   "execution_count": null,
   "id": "abd970b7-6ac5-4211-82e3-1f05ca90b210",
   "metadata": {},
   "outputs": [],
   "source": []
  }
 ],
 "metadata": {
  "kernelspec": {
   "display_name": "Python 3 (ipykernel)",
   "language": "python",
   "name": "python3"
  },
  "language_info": {
   "codemirror_mode": {
    "name": "ipython",
    "version": 3
   },
   "file_extension": ".py",
   "mimetype": "text/x-python",
   "name": "python",
   "nbconvert_exporter": "python",
   "pygments_lexer": "ipython3",
   "version": "3.9.18"
  }
 },
 "nbformat": 4,
 "nbformat_minor": 5
}
